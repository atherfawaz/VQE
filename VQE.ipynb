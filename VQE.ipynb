{
  "nbformat": 4,
  "nbformat_minor": 0,
  "metadata": {
    "colab": {
      "name": "VQE.ipynb",
      "provenance": [],
      "collapsed_sections": []
    },
    "kernelspec": {
      "name": "python3",
      "display_name": "Python 3"
    }
  },
  "cells": [
    {
      "cell_type": "code",
      "metadata": {
        "id": "1dpVMHx0cdIU"
      },
      "source": [
        "#!pip install qiskit"
      ],
      "execution_count": null,
      "outputs": []
    },
    {
      "cell_type": "code",
      "metadata": {
        "id": "b1SzjBogg28r"
      },
      "source": [
        "from random import random\n",
        "from scipy.optimize import minimize\n",
        "import numpy as np\n",
        "from numpy import kron\n",
        "from qiskit import *\n",
        "from qiskit.circuit.library.standard_gates import U2Gate\n",
        "from qiskit.aqua.operators import WeightedPauliOperator\n",
        "from qiskit.aqua.algorithms import NumPyEigensolver"
      ],
      "execution_count": 1,
      "outputs": []
    },
    {
      "cell_type": "code",
      "metadata": {
        "id": "60VYZ6eKavod"
      },
      "source": [
        "def HS(M1, M2):\n",
        "    return (np.dot(M1.conjugate().transpose(), M2)).trace()\n",
        "\n",
        "def c2s(c):\n",
        "    if c == 0.0:\n",
        "        return \"0\"\n",
        "    if c.imag == 0:\n",
        "        return \"%g\" % c.real\n",
        "    elif c.real == 0:\n",
        "        return \"%gj\" % c.imag\n",
        "    else:\n",
        "        return \"%g+%gj\" % (c.real, c.imag)\n",
        "\n",
        "def decompose(H):\n",
        "    print('The Pauli Matrices are: ')\n",
        "    sx = np.array([[0, 1],  [ 1, 0]], dtype=np.complex128)\n",
        "    sy = np.array([[0, -1j],[1j, 0]], dtype=np.complex128)\n",
        "    sz = np.array([[1, 0],  [0, -1]], dtype=np.complex128)\n",
        "    id = np.array([[1, 0],  [ 0, 1]], dtype=np.complex128)\n",
        "    S = [id, sx, sy, sz]\n",
        "    labels = ['I', 'sigma_x', 'sigma_y', 'sigma_z']\n",
        "    values = []\n",
        "    for i in range(4):\n",
        "        for j in range(4):\n",
        "            label = labels[i] + ' \\otimes ' + labels[j]\n",
        "            a_ij = 0.25 * HS(kron(S[i], S[j]), H)\n",
        "            values.append(c2s(a_ij))\n",
        "            if a_ij != 0.0:\n",
        "                print (\"%s\\t*\\t( %s )\" % (c2s(a_ij), label))\n",
        "    coef = []\n",
        "    for value in values:\n",
        "        if (float(value) != 0.0):\n",
        "            coef.append(float(value))\n",
        "    return coef\n"
      ],
      "execution_count": 2,
      "outputs": []
    },
    {
      "cell_type": "code",
      "metadata": {
        "id": "h5xmmM2NfMIo"
      },
      "source": [
        "def hamiltonian_operator(a, b, c, d):\n",
        "    pauli_dict = {\n",
        "        'paulis': [{\"coeff\": {\"imag\": 0.0, \"real\": a}, \"label\": \"I\"},\n",
        "                   {\"coeff\": {\"imag\": 0.0, \"real\": b}, \"label\": \"Z\"},\n",
        "                   {\"coeff\": {\"imag\": 0.0, \"real\": c}, \"label\": \"X\"},\n",
        "                   {\"coeff\": {\"imag\": 0.0, \"real\": d}, \"label\": \"Y\"}\n",
        "                   ]\n",
        "    }\n",
        "    return WeightedPauliOperator.from_dict(pauli_dict)"
      ],
      "execution_count": 3,
      "outputs": []
    },
    {
      "cell_type": "code",
      "metadata": {
        "id": "clFYonzSbTwA",
        "outputId": "59dabf45-449c-447d-bc08-034dd2643f4d",
        "colab": {
          "base_uri": "https://localhost:8080/",
          "height": 140
        }
      },
      "source": [
        "H = np.array(np.diag([1,-1,-1,1]), dtype=np.complex128)\n",
        "H[[1, 2]] = H[[2, 1]]\n",
        "coefficients = decompose(H)\n",
        "print('The coefficients of Pauli Matrices are: ', coefficients)\n",
        "H = hamiltonian_operator(a=coefficients[0], b=coefficients[3], c=coefficients[1], d=coefficients[2])\n",
        "exact_result = NumPyEigensolver(H).run()\n",
        "reference_energy = min(np.real(exact_result.eigenvalues))\n",
        "print('The lowest energy state is: ', reference_energy)"
      ],
      "execution_count": 4,
      "outputs": [
        {
          "output_type": "stream",
          "text": [
            "The Pauli Matrices are: \n",
            "0.5\t*\t( I \\otimes I )\n",
            "-0.5\t*\t( sigma_x \\otimes sigma_x )\n",
            "-0.5\t*\t( sigma_y \\otimes sigma_y )\n",
            "0.5\t*\t( sigma_z \\otimes sigma_z )\n",
            "The coefficients of Pauli Matrices are:  [0.5, -0.5, -0.5, 0.5]\n",
            "The lowest energy state is:  -0.3660254037844386\n"
          ],
          "name": "stdout"
        }
      ]
    },
    {
      "cell_type": "code",
      "metadata": {
        "id": "_fnDwTJpkmFU",
        "outputId": "3f53b34c-0a34-4dbb-d0d2-dd6a1619dcbe",
        "colab": {
          "base_uri": "https://localhost:8080/",
          "height": 122
        }
      },
      "source": [
        "H_gate = U2Gate(0, np.pi).to_matrix()\n",
        "print(\"H_gate:\")\n",
        "print((H_gate * np.sqrt(2)).round(5))\n",
        "\n",
        "Y_gate = U2Gate(0, np.pi/2).to_matrix()\n",
        "print(\"Y_gate:\")\n",
        "print((Y_gate * np.sqrt(2)).round(5))"
      ],
      "execution_count": 5,
      "outputs": [
        {
          "output_type": "stream",
          "text": [
            "H_gate:\n",
            "[[ 1.+0.j  1.-0.j]\n",
            " [ 1.+0.j -1.+0.j]]\n",
            "Y_gate:\n",
            "[[ 1.+0.j -0.-1.j]\n",
            " [ 1.+0.j  0.+1.j]]\n"
          ],
          "name": "stdout"
        }
      ]
    },
    {
      "cell_type": "code",
      "metadata": {
        "id": "Tc14WChIicGA"
      },
      "source": [
        "def quantum_state_preparation(circuit, parameters):\n",
        "  q = circuit.qregs[0] # q is the quantum register where the info about qubits is stored\n",
        "  circuit.rx(parameters[0], q[0]) # q[0] is our one and only qubit XD\n",
        "  circuit.ry(parameters[1], q[0])\n",
        "  return circuit"
      ],
      "execution_count": 6,
      "outputs": []
    },
    {
      "cell_type": "code",
      "metadata": {
        "id": "WRatiCqjiunW"
      },
      "source": [
        "def vqe_circuit(parameters, measure):\n",
        "    \"\"\"\n",
        "    Creates a device ansatz circuit for optimization.\n",
        "    :param parameters_array: list of parameters for constructing ansatz state that should be optimized.\n",
        "    :param measure: measurement type. E.g. 'Z' stands for Z measurement.\n",
        "    :return: quantum circuit.\n",
        "    \"\"\"\n",
        "    q = QuantumRegister(1)\n",
        "    c = ClassicalRegister(1)\n",
        "    circuit = QuantumCircuit(q, c)\n",
        "\n",
        "    # quantum state preparation\n",
        "    circuit = quantum_state_preparation(circuit, parameters)\n",
        "\n",
        "    # measurement\n",
        "    if measure == 'Z':\n",
        "        circuit.measure(q[0], c[0])\n",
        "    elif measure == 'X':\n",
        "        circuit.u2(0, np.pi, q[0])\n",
        "        circuit.measure(q[0], c[0])\n",
        "    elif measure == 'Y':\n",
        "        circuit.u2(0, np.pi/2, q[0])\n",
        "        circuit.measure(q[0], c[0])\n",
        "    else:\n",
        "        raise ValueError('Not valid input for measurement: input should be \"X\" or \"Y\" or \"Z\"')\n",
        "\n",
        "    return circuit"
      ],
      "execution_count": 7,
      "outputs": []
    },
    {
      "cell_type": "code",
      "metadata": {
        "id": "H7m-eKwqi2et"
      },
      "source": [
        "def quantum_module(parameters, measure):\n",
        "    # measure\n",
        "    if measure == 'I':\n",
        "        return 1\n",
        "    elif measure == 'Z':\n",
        "        circuit = vqe_circuit(parameters, 'Z')\n",
        "    elif measure == 'X':\n",
        "        circuit = vqe_circuit(parameters, 'X')\n",
        "    elif measure == 'Y':\n",
        "        circuit = vqe_circuit(parameters, 'Y')\n",
        "    else:\n",
        "        raise ValueError('Not valid input for measurement: input should be \"I\" or \"X\" or \"Z\" or \"Y\"')\n",
        "    \n",
        "    shots = 8192\n",
        "    backend = BasicAer.get_backend('qasm_simulator')\n",
        "    job = execute(circuit, backend, shots=shots)\n",
        "    result = job.result()\n",
        "    counts = result.get_counts()\n",
        "    \n",
        "    # expectation value estimation from counts\n",
        "    expectation_value = 0\n",
        "    for measure_result in counts:\n",
        "        sign = +1\n",
        "        if measure_result == '1':\n",
        "            sign = -1\n",
        "        expectation_value += sign * counts[measure_result] / shots\n",
        "        \n",
        "    return expectation_value"
      ],
      "execution_count": 8,
      "outputs": []
    },
    {
      "cell_type": "code",
      "metadata": {
        "id": "UT9rMW15i7Vz"
      },
      "source": [
        "def pauli_operator_to_dict(pauli_operator):\n",
        "    \"\"\"\n",
        "    from WeightedPauliOperator return a dict:\n",
        "    {I: 0.7, X: 0.6, Z: 0.1, Y: 0.5}.\n",
        "    :param pauli_operator: qiskit's WeightedPauliOperator\n",
        "    :return: a dict in the desired form.\n",
        "    \"\"\"\n",
        "    d = pauli_operator.to_dict()\n",
        "    paulis = d['paulis']\n",
        "    paulis_dict = {}\n",
        "\n",
        "    for x in paulis:\n",
        "        label = x['label']\n",
        "        coeff = x['coeff']['real']\n",
        "        paulis_dict[label] = coeff\n",
        "\n",
        "    return paulis_dict\n",
        "pauli_dict = pauli_operator_to_dict(H)"
      ],
      "execution_count": 9,
      "outputs": []
    },
    {
      "cell_type": "code",
      "metadata": {
        "id": "xOKc3Q3SjCm1"
      },
      "source": [
        "def vqe(parameters):\n",
        "        \n",
        "    # quantum_modules\n",
        "    quantum_module_I = pauli_dict['I'] * quantum_module(parameters, 'I')\n",
        "    quantum_module_Z = pauli_dict['Z'] * quantum_module(parameters, 'Z')\n",
        "    quantum_module_X = pauli_dict['X'] * quantum_module(parameters, 'X')\n",
        "    quantum_module_Y = pauli_dict['Y'] * quantum_module(parameters, 'Y')\n",
        "    \n",
        "    # summing the measurement results\n",
        "    classical_adder = quantum_module_I + quantum_module_Z + quantum_module_X + quantum_module_Y\n",
        "    \n",
        "    return classical_adder"
      ],
      "execution_count": 11,
      "outputs": []
    },
    {
      "cell_type": "code",
      "metadata": {
        "id": "vvSnfVr-jFqb",
        "outputId": "35cd998d-29e4-4976-d331-0e3e8f9b2283",
        "colab": {
          "base_uri": "https://localhost:8080/",
          "height": 52
        }
      },
      "source": [
        "parameters_array = np.array([np.pi, np.pi])\n",
        "tol = 1e-3 # tolerance for optimization precision.\n",
        "\n",
        "vqe_result = minimize(vqe, parameters_array, method=\"Powell\", tol=tol)\n",
        "print('The exact ground state energy is: {}'.format(reference_energy))\n",
        "print('The estimated ground state energy from VQE algorithm is: {}'.format(vqe_result.fun))"
      ],
      "execution_count": 12,
      "outputs": [
        {
          "output_type": "stream",
          "text": [
            "The exact ground state energy is: -0.3660254037844386\n",
            "The estimated ground state energy from VQE algorithm is: -0.3853759765625\n"
          ],
          "name": "stdout"
        }
      ]
    }
  ]
}