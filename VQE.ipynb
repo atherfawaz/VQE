{
  "nbformat": 4,
  "nbformat_minor": 0,
  "metadata": {
    "colab": {
      "name": "VQE.ipynb",
      "provenance": [],
      "collapsed_sections": []
    },
    "kernelspec": {
      "name": "python3",
      "display_name": "Python 3"
    }
  },
  "cells": [
    {
      "cell_type": "markdown",
      "metadata": {
        "id": "Vy3oXYZUvqVX"
      },
      "source": [
        "#Variational Quantum Eigensolver\n",
        "\n",
        "Variational quantum eigensolver (VQE) is a hybrid quantum-classical algorithm that finds the smallest eigenvalue (and corresponding eigenvector) of a given Hamiltonian. One of the main applications of the algorithm is finding ground state energy of molecules. It has a big advantage over IQPE (iterative quantum phase estimation) and QPE (quantum phase estimation) algorithms, that also can be used for finding the ground state energy of a molecule. The main advantage is that VQE uses much smaller circuit depths (or gates) then IQPE and QPE, what is very important for NISQ (Noisy Intermediate-Scale Quantum) era quantum computation. In the NISQ era (now!) we are working with qubits that are very noisy because they are not isolated from the environment well enough. Thus, there is small and finite time to work with qubits until they will be \"spoiled\", because of the environment, imperfect gates and etc. This restriction gives a big advantage to those algorithms (like VQE) that are using small depth circuits."
      ]
    },
    {
      "cell_type": "markdown",
      "metadata": {
        "id": "GwyQQ5msmNpJ"
      },
      "source": [
        "##Question\n",
        "Using VQE-like circuits, created by yourself from scratch, find the lowest eigenvalue of the following matrix:\n",
        "\n",
        "```\n",
        "1  0  0  0 \n",
        "0  0 -1  0\n",
        "0 -1  0  0 \n",
        "0  0  0  1\n",
        "```\n"
      ]
    },
    {
      "cell_type": "code",
      "metadata": {
        "id": "1dpVMHx0cdIU"
      },
      "source": [
        "#!pip install qiskit"
      ],
      "execution_count": null,
      "outputs": []
    },
    {
      "cell_type": "code",
      "metadata": {
        "id": "b1SzjBogg28r"
      },
      "source": [
        "from random import random\n",
        "from scipy.optimize import minimize\n",
        "import numpy as np\n",
        "from numpy import kron\n",
        "from qiskit import *\n",
        "from qiskit.circuit.library.standard_gates import U2Gate\n",
        "from qiskit.aqua.operators import WeightedPauliOperator\n",
        "from qiskit.aqua.algorithms import NumPyEigensolver"
      ],
      "execution_count": null,
      "outputs": []
    },
    {
      "cell_type": "markdown",
      "metadata": {
        "id": "HFOzHrhinOQ4"
      },
      "source": [
        "##Decomposing the given matrix into the sum of its Pauli terms\n",
        "\n",
        "This will find the coefficients of the pauli matrices. For the given matrix, the decomposition of the Hamiltonian will be as follows:\n",
        "$$\n",
        "H = 0.5I - 0.5X - 0.5Y + 0.5Z\n",
        "$$"
      ]
    },
    {
      "cell_type": "code",
      "metadata": {
        "id": "60VYZ6eKavod"
      },
      "source": [
        "def HS(M1, M2):\n",
        "    return (np.dot(M1.conjugate().transpose(), M2)).trace()\n",
        "\n",
        "def c2s(c):\n",
        "    if c == 0.0:\n",
        "        return \"0\"\n",
        "    if c.imag == 0:\n",
        "        return \"%g\" % c.real\n",
        "    elif c.real == 0:\n",
        "        return \"%gj\" % c.imag\n",
        "    else:\n",
        "        return \"%g+%gj\" % (c.real, c.imag)\n",
        "\n",
        "def decompose(H):\n",
        "    sx = np.array([[0, 1],  [ 1, 0]], dtype=np.complex128)\n",
        "    sy = np.array([[0, -1j],[1j, 0]], dtype=np.complex128)\n",
        "    sz = np.array([[1, 0],  [0, -1]], dtype=np.complex128)\n",
        "    id = np.array([[1, 0],  [ 0, 1]], dtype=np.complex128)\n",
        "    S = [id, sx, sy, sz]\n",
        "    labels = ['I', 'sigma_x', 'sigma_y', 'sigma_z']\n",
        "    values = []\n",
        "    for i in range(4):\n",
        "        for j in range(4):\n",
        "            label = labels[i] + ' \\otimes ' + labels[j]\n",
        "            a_ij = 0.25 * HS(kron(S[i], S[j]), H)\n",
        "            values.append(c2s(a_ij))\n",
        "    coef = []\n",
        "    for value in values:\n",
        "        if (float(value) != 0.0):\n",
        "            coef.append(float(value))\n",
        "    return coef\n"
      ],
      "execution_count": null,
      "outputs": []
    },
    {
      "cell_type": "code",
      "metadata": {
        "id": "R62mi_MBrdXy",
        "outputId": "ebac26eb-0dea-437a-f517-fc30b0b94cf4",
        "colab": {
          "base_uri": "https://localhost:8080/",
          "height": 34
        }
      },
      "source": [
        "H = np.array(np.diag([1,-1,-1,1]), dtype=np.complex128)\n",
        "H[[1, 2]] = H[[2, 1]]\n",
        "coefficients = decompose(H)\n",
        "print('The coefficients of Pauli Matrices are: ', coefficients)"
      ],
      "execution_count": null,
      "outputs": [
        {
          "output_type": "stream",
          "text": [
            "The coefficients of Pauli Matrices are:  [0.5, -0.5, -0.5, 0.5]\n"
          ],
          "name": "stdout"
        }
      ]
    },
    {
      "cell_type": "code",
      "metadata": {
        "id": "clFYonzSbTwA",
        "outputId": "2a482adc-f62c-458a-d9ca-fe83069dd1cc",
        "colab": {
          "base_uri": "https://localhost:8080/",
          "height": 34
        }
      },
      "source": [
        "def hamiltonian_operator(a, b, c, d):\n",
        "    pauli_dict = {\n",
        "        'paulis': [{\"coeff\": {\"imag\": 0.0, \"real\": a}, \"label\": \"I\"},\n",
        "                   {\"coeff\": {\"imag\": 0.0, \"real\": b}, \"label\": \"Z\"},\n",
        "                   {\"coeff\": {\"imag\": 0.0, \"real\": c}, \"label\": \"X\"},\n",
        "                   {\"coeff\": {\"imag\": 0.0, \"real\": d}, \"label\": \"Y\"}\n",
        "                   ]\n",
        "    }\n",
        "    return WeightedPauliOperator.from_dict(pauli_dict)\n",
        "\n",
        "H = hamiltonian_operator(a=coefficients[0], b=coefficients[3], c=coefficients[1], d=coefficients[2])\n",
        "\n",
        "exact_result = NumPyEigensolver(H).run()\n",
        "reference_energy = min(np.real(exact_result.eigenvalues))\n",
        "print('The lowest energy state is: ', reference_energy)"
      ],
      "execution_count": null,
      "outputs": [
        {
          "output_type": "stream",
          "text": [
            "The lowest energy state is:  -0.3660254037844386\n"
          ],
          "name": "stdout"
        }
      ]
    },
    {
      "cell_type": "code",
      "metadata": {
        "id": "_fnDwTJpkmFU",
        "outputId": "573ea5b3-2c51-49d9-a10e-8f9ab8065ec5",
        "colab": {
          "base_uri": "https://localhost:8080/",
          "height": 122
        }
      },
      "source": [
        "H_gate = U2Gate(0, np.pi).to_matrix()\n",
        "print(\"H_gate:\")\n",
        "print((H_gate * np.sqrt(2)).round(5))\n",
        "\n",
        "Y_gate = U2Gate(0, np.pi/2).to_matrix()\n",
        "print(\"Y_gate:\")\n",
        "print((Y_gate * np.sqrt(2)).round(5))"
      ],
      "execution_count": null,
      "outputs": [
        {
          "output_type": "stream",
          "text": [
            "H_gate:\n",
            "[[ 1.+0.j  1.-0.j]\n",
            " [ 1.+0.j -1.+0.j]]\n",
            "Y_gate:\n",
            "[[ 1.+0.j -0.-1.j]\n",
            " [ 1.+0.j  0.+1.j]]\n"
          ],
          "name": "stdout"
        }
      ]
    },
    {
      "cell_type": "code",
      "metadata": {
        "id": "Tc14WChIicGA"
      },
      "source": [
        "def quantum_state_preparation(circuit, parameters):\n",
        "  q = circuit.qregs[0] # q is the quantum register where the info about qubits is stored\n",
        "  circuit.rx(parameters[0], q[0]) # q[0] is our one and only qubit XD\n",
        "  circuit.ry(parameters[1], q[0])\n",
        "  return circuit"
      ],
      "execution_count": null,
      "outputs": []
    },
    {
      "cell_type": "code",
      "metadata": {
        "id": "WRatiCqjiunW"
      },
      "source": [
        "def vqe_circuit(parameters, measure):\n",
        "    \"\"\"\n",
        "    Creates a device ansatz circuit for optimization.\n",
        "    :param parameters_array: list of parameters for constructing ansatz state that should be optimized.\n",
        "    :param measure: measurement type. E.g. 'Z' stands for Z measurement.\n",
        "    :return: quantum circuit.\n",
        "    \"\"\"\n",
        "    q = QuantumRegister(1)\n",
        "    c = ClassicalRegister(1)\n",
        "    circuit = QuantumCircuit(q, c)\n",
        "\n",
        "    # quantum state preparation\n",
        "    circuit = quantum_state_preparation(circuit, parameters)\n",
        "\n",
        "    # measurement\n",
        "    if measure == 'Z':\n",
        "        circuit.measure(q[0], c[0])\n",
        "    elif measure == 'X':\n",
        "        circuit.u2(0, np.pi, q[0])\n",
        "        circuit.measure(q[0], c[0])\n",
        "    elif measure == 'Y':\n",
        "        circuit.u2(0, np.pi/2, q[0])\n",
        "        circuit.measure(q[0], c[0])\n",
        "    else:\n",
        "        raise ValueError('Not valid input for measurement: input should be \"X\" or \"Y\" or \"Z\"')\n",
        "\n",
        "    return circuit"
      ],
      "execution_count": null,
      "outputs": []
    },
    {
      "cell_type": "code",
      "metadata": {
        "id": "H7m-eKwqi2et"
      },
      "source": [
        "def quantum_module(parameters, measure):\n",
        "    # measure\n",
        "    if measure == 'I':\n",
        "        return 1\n",
        "    elif measure == 'Z':\n",
        "        circuit = vqe_circuit(parameters, 'Z')\n",
        "    elif measure == 'X':\n",
        "        circuit = vqe_circuit(parameters, 'X')\n",
        "    elif measure == 'Y':\n",
        "        circuit = vqe_circuit(parameters, 'Y')\n",
        "    else:\n",
        "        raise ValueError('Not valid input for measurement: input should be \"I\" or \"X\" or \"Z\" or \"Y\"')\n",
        "    \n",
        "    shots = 8192\n",
        "    backend = BasicAer.get_backend('qasm_simulator')\n",
        "    job = execute(circuit, backend, shots=shots)\n",
        "    result = job.result()\n",
        "    counts = result.get_counts()\n",
        "    \n",
        "    # expectation value estimation from counts\n",
        "    expectation_value = 0\n",
        "    for measure_result in counts:\n",
        "        sign = +1\n",
        "        if measure_result == '1':\n",
        "            sign = -1\n",
        "        expectation_value += sign * counts[measure_result] / shots\n",
        "        \n",
        "    return expectation_value"
      ],
      "execution_count": null,
      "outputs": []
    },
    {
      "cell_type": "code",
      "metadata": {
        "id": "UT9rMW15i7Vz"
      },
      "source": [
        "def pauli_operator_to_dict(pauli_operator):\n",
        "    \"\"\"\n",
        "    from WeightedPauliOperator return a dict:\n",
        "    {I: 0.7, X: 0.6, Z: 0.1, Y: 0.5}.\n",
        "    :param pauli_operator: qiskit's WeightedPauliOperator\n",
        "    :return: a dict in the desired form.\n",
        "    \"\"\"\n",
        "    d = pauli_operator.to_dict()\n",
        "    paulis = d['paulis']\n",
        "    paulis_dict = {}\n",
        "\n",
        "    for x in paulis:\n",
        "        label = x['label']\n",
        "        coeff = x['coeff']['real']\n",
        "        paulis_dict[label] = coeff\n",
        "\n",
        "    return paulis_dict\n",
        "pauli_dict = pauli_operator_to_dict(H)"
      ],
      "execution_count": null,
      "outputs": []
    },
    {
      "cell_type": "code",
      "metadata": {
        "id": "xOKc3Q3SjCm1"
      },
      "source": [
        "def vqe(parameters):\n",
        "        \n",
        "    # quantum_modules\n",
        "    quantum_module_I = pauli_dict['I'] * quantum_module(parameters, 'I')\n",
        "    quantum_module_Z = pauli_dict['Z'] * quantum_module(parameters, 'Z')\n",
        "    quantum_module_X = pauli_dict['X'] * quantum_module(parameters, 'X')\n",
        "    quantum_module_Y = pauli_dict['Y'] * quantum_module(parameters, 'Y')\n",
        "    \n",
        "    # summing the measurement results\n",
        "    classical_adder = quantum_module_I + quantum_module_Z + quantum_module_X + quantum_module_Y\n",
        "    \n",
        "    return classical_adder"
      ],
      "execution_count": null,
      "outputs": []
    },
    {
      "cell_type": "code",
      "metadata": {
        "id": "vvSnfVr-jFqb",
        "outputId": "36a5214d-bdbd-4e66-af18-458b0a3ff1a9",
        "colab": {
          "base_uri": "https://localhost:8080/",
          "height": 52
        }
      },
      "source": [
        "parameters_array = np.array([np.pi, np.pi])\n",
        "tol = 1e-3 # tolerance for optimization precision.\n",
        "\n",
        "vqe_result = minimize(vqe, parameters_array, method=\"Powell\", tol=tol)\n",
        "print('The exact ground state energy is: {}'.format(reference_energy))\n",
        "print('The estimated ground state energy from VQE algorithm is: {}'.format(vqe_result.fun))"
      ],
      "execution_count": null,
      "outputs": [
        {
          "output_type": "stream",
          "text": [
            "The exact ground state energy is: -0.3660254037844386\n",
            "The estimated ground state energy from VQE algorithm is: -0.367431640625\n"
          ],
          "name": "stdout"
        }
      ]
    }
  ]
}